{
 "cells": [
  {
   "cell_type": "code",
   "execution_count": 1,
   "metadata": {},
   "outputs": [],
   "source": [
    "import predictor_class\n",
    "import numpy as np\n",
    "import tensorflow as tf\n",
    "import pandas as pd\n",
    "import yfinance as yf\n",
    "from tensorflow.keras import layers\n",
    "import matplotlib.pyplot as plt\n",
    "import strategy_class\n",
    "\n",
    "# needs to be reprofiled for russian/chinese securities, also add more risk management"
   ]
  },
  {
   "cell_type": "code",
   "execution_count": 2,
   "metadata": {},
   "outputs": [
    {
     "name": "stdout",
     "output_type": "stream",
     "text": [
      "[*********************100%%**********************]  1 of 1 completed\n",
      "[*********************100%%**********************]  1 of 1 completed\n",
      "[*********************100%%**********************]  1 of 1 completed\n",
      "[*********************100%%**********************]  1 of 1 completed\n",
      "[*********************100%%**********************]  1 of 1 completed\n",
      "[*********************100%%**********************]  1 of 1 completed\n",
      "[*********************100%%**********************]  1 of 1 completed\n",
      "[*********************100%%**********************]  1 of 1 completed\n"
     ]
    }
   ],
   "source": [
    "securities = [yf.download('baba', period='60d', interval='5m'), yf.download('tcehy', period='60d', interval='5m'), yf.download('vips', period='60d', interval='5m'), yf.download('tme', period='60d', interval='5m'),\n",
    "              yf.download('jd', period='60d', interval='5m'),yf.download('bidu', period='60d', interval='5m'),yf.download('wb', period='60d', interval='5m'), yf.download('momo', period='60d', interval='5m')]\n",
    "\n",
    "l = [layers.Conv1D(100, kernel_size=2, strides=(2), padding='same', input_shape = [5, 7, 1], activation='sigmoid'),\n",
    "        layers.MaxPooling2D((1, 2)),\n",
    "        layers.LeakyReLU(),\n",
    "        layers.BatchNormalization(),\n",
    "        layers.Dropout(0.15),\n",
    "\n",
    "        layers.Conv1D(50, kernel_size=3, strides=(2), padding='same', activation='sigmoid'),\n",
    "        layers.LeakyReLU(),\n",
    "        layers.Dropout(0.15),\n",
    "\n",
    "        layers.Flatten(),\n",
    "        layers.Dense(50, activation='sigmoid'),\n",
    "        layers.Dense(10, activation='relu'),\n",
    "        layers.Dense(1, activation='relu')]"
   ]
  },
  {
   "cell_type": "code",
   "execution_count": 11,
   "metadata": {},
   "outputs": [
    {
     "name": "stdout",
     "output_type": "stream",
     "text": [
      "[*********************100%%**********************]  1 of 1 completed\n",
      "[*********************100%%**********************]  1 of 1 completed\n",
      "[*********************100%%**********************]  1 of 1 completed\n",
      "[*********************100%%**********************]  1 of 1 completed\n",
      "[*********************100%%**********************]  1 of 1 completed\n",
      "[*********************100%%**********************]  1 of 1 completed\n",
      "[*********************100%%**********************]  1 of 1 completed\n",
      "[*********************100%%**********************]  1 of 1 completed\n"
     ]
    },
    {
     "name": "stderr",
     "output_type": "stream",
     "text": [
      "c:\\Users\\gelos\\OneDrive\\Desktop\\scripts\\python\\idp\\predictor_class.py:96: FutureWarning: Series.__getitem__ treating keys as positions is deprecated. In a future version, integer keys will always be treated as labels (consistent with DataFrame behavior). To access a value by position, use `ser.iloc[pos]`\n",
      "  indicators[i:i+5].ma20,\n"
     ]
    },
    {
     "name": "stdout",
     "output_type": "stream",
     "text": [
      "142/142 [==============================] - 1s 2ms/step - loss: 8492.4580\n"
     ]
    },
    {
     "name": "stderr",
     "output_type": "stream",
     "text": [
      "c:\\Users\\gelos\\OneDrive\\Desktop\\scripts\\python\\idp\\predictor_class.py:96: FutureWarning: Series.__getitem__ treating keys as positions is deprecated. In a future version, integer keys will always be treated as labels (consistent with DataFrame behavior). To access a value by position, use `ser.iloc[pos]`\n",
      "  indicators[i:i+5].ma20,\n"
     ]
    },
    {
     "name": "stdout",
     "output_type": "stream",
     "text": [
      "142/142 [==============================] - 0s 2ms/step - loss: 1778.3333\n"
     ]
    },
    {
     "name": "stderr",
     "output_type": "stream",
     "text": [
      "c:\\Users\\gelos\\OneDrive\\Desktop\\scripts\\python\\idp\\predictor_class.py:96: FutureWarning: Series.__getitem__ treating keys as positions is deprecated. In a future version, integer keys will always be treated as labels (consistent with DataFrame behavior). To access a value by position, use `ser.iloc[pos]`\n",
      "  indicators[i:i+5].ma20,\n"
     ]
    },
    {
     "name": "stdout",
     "output_type": "stream",
     "text": [
      "142/142 [==============================] - 0s 2ms/step - loss: 267.2415\n"
     ]
    },
    {
     "name": "stderr",
     "output_type": "stream",
     "text": [
      "c:\\Users\\gelos\\OneDrive\\Desktop\\scripts\\python\\idp\\predictor_class.py:96: FutureWarning: Series.__getitem__ treating keys as positions is deprecated. In a future version, integer keys will always be treated as labels (consistent with DataFrame behavior). To access a value by position, use `ser.iloc[pos]`\n",
      "  indicators[i:i+5].ma20,\n"
     ]
    },
    {
     "name": "stdout",
     "output_type": "stream",
     "text": [
      "142/142 [==============================] - 0s 2ms/step - loss: 45.1064\n"
     ]
    },
    {
     "name": "stderr",
     "output_type": "stream",
     "text": [
      "c:\\Users\\gelos\\OneDrive\\Desktop\\scripts\\python\\idp\\predictor_class.py:96: FutureWarning: Series.__getitem__ treating keys as positions is deprecated. In a future version, integer keys will always be treated as labels (consistent with DataFrame behavior). To access a value by position, use `ser.iloc[pos]`\n",
      "  indicators[i:i+5].ma20,\n"
     ]
    },
    {
     "name": "stdout",
     "output_type": "stream",
     "text": [
      "142/142 [==============================] - 0s 2ms/step - loss: 1249.5216\n"
     ]
    },
    {
     "name": "stderr",
     "output_type": "stream",
     "text": [
      "c:\\Users\\gelos\\OneDrive\\Desktop\\scripts\\python\\idp\\predictor_class.py:96: FutureWarning: Series.__getitem__ treating keys as positions is deprecated. In a future version, integer keys will always be treated as labels (consistent with DataFrame behavior). To access a value by position, use `ser.iloc[pos]`\n",
      "  indicators[i:i+5].ma20,\n"
     ]
    },
    {
     "name": "stdout",
     "output_type": "stream",
     "text": [
      "142/142 [==============================] - 0s 2ms/step - loss: 19873.1484\n"
     ]
    },
    {
     "name": "stderr",
     "output_type": "stream",
     "text": [
      "c:\\Users\\gelos\\OneDrive\\Desktop\\scripts\\python\\idp\\predictor_class.py:96: FutureWarning: Series.__getitem__ treating keys as positions is deprecated. In a future version, integer keys will always be treated as labels (consistent with DataFrame behavior). To access a value by position, use `ser.iloc[pos]`\n",
      "  indicators[i:i+5].ma20,\n"
     ]
    },
    {
     "name": "stdout",
     "output_type": "stream",
     "text": [
      "142/142 [==============================] - 0s 2ms/step - loss: 180.1809\n"
     ]
    },
    {
     "name": "stderr",
     "output_type": "stream",
     "text": [
      "c:\\Users\\gelos\\OneDrive\\Desktop\\scripts\\python\\idp\\predictor_class.py:96: FutureWarning: Series.__getitem__ treating keys as positions is deprecated. In a future version, integer keys will always be treated as labels (consistent with DataFrame behavior). To access a value by position, use `ser.iloc[pos]`\n",
      "  indicators[i:i+5].ma20,\n"
     ]
    },
    {
     "name": "stdout",
     "output_type": "stream",
     "text": [
      "142/142 [==============================] - 0s 2ms/step - loss: 88.8818\n"
     ]
    },
    {
     "name": "stderr",
     "output_type": "stream",
     "text": [
      "c:\\Users\\gelos\\OneDrive\\Desktop\\scripts\\python\\idp\\predictor_class.py:96: FutureWarning: Series.__getitem__ treating keys as positions is deprecated. In a future version, integer keys will always be treated as labels (consistent with DataFrame behavior). To access a value by position, use `ser.iloc[pos]`\n",
      "  indicators[i:i+5].ma20,\n"
     ]
    },
    {
     "name": "stdout",
     "output_type": "stream",
     "text": [
      "142/142 [==============================] - 1s 2ms/step - loss: 8492.7744\n"
     ]
    },
    {
     "name": "stderr",
     "output_type": "stream",
     "text": [
      "c:\\Users\\gelos\\OneDrive\\Desktop\\scripts\\python\\idp\\predictor_class.py:96: FutureWarning: Series.__getitem__ treating keys as positions is deprecated. In a future version, integer keys will always be treated as labels (consistent with DataFrame behavior). To access a value by position, use `ser.iloc[pos]`\n",
      "  indicators[i:i+5].ma20,\n"
     ]
    },
    {
     "name": "stdout",
     "output_type": "stream",
     "text": [
      "142/142 [==============================] - 0s 2ms/step - loss: 1778.3195\n"
     ]
    },
    {
     "name": "stderr",
     "output_type": "stream",
     "text": [
      "c:\\Users\\gelos\\OneDrive\\Desktop\\scripts\\python\\idp\\predictor_class.py:96: FutureWarning: Series.__getitem__ treating keys as positions is deprecated. In a future version, integer keys will always be treated as labels (consistent with DataFrame behavior). To access a value by position, use `ser.iloc[pos]`\n",
      "  indicators[i:i+5].ma20,\n"
     ]
    },
    {
     "name": "stdout",
     "output_type": "stream",
     "text": [
      "142/142 [==============================] - 0s 2ms/step - loss: 267.2390\n"
     ]
    },
    {
     "name": "stderr",
     "output_type": "stream",
     "text": [
      "c:\\Users\\gelos\\OneDrive\\Desktop\\scripts\\python\\idp\\predictor_class.py:96: FutureWarning: Series.__getitem__ treating keys as positions is deprecated. In a future version, integer keys will always be treated as labels (consistent with DataFrame behavior). To access a value by position, use `ser.iloc[pos]`\n",
      "  indicators[i:i+5].ma20,\n"
     ]
    },
    {
     "name": "stdout",
     "output_type": "stream",
     "text": [
      "142/142 [==============================] - 0s 2ms/step - loss: 45.1039\n"
     ]
    },
    {
     "name": "stderr",
     "output_type": "stream",
     "text": [
      "c:\\Users\\gelos\\OneDrive\\Desktop\\scripts\\python\\idp\\predictor_class.py:96: FutureWarning: Series.__getitem__ treating keys as positions is deprecated. In a future version, integer keys will always be treated as labels (consistent with DataFrame behavior). To access a value by position, use `ser.iloc[pos]`\n",
      "  indicators[i:i+5].ma20,\n"
     ]
    },
    {
     "name": "stdout",
     "output_type": "stream",
     "text": [
      "142/142 [==============================] - 0s 2ms/step - loss: 1249.5254\n"
     ]
    },
    {
     "name": "stderr",
     "output_type": "stream",
     "text": [
      "c:\\Users\\gelos\\OneDrive\\Desktop\\scripts\\python\\idp\\predictor_class.py:96: FutureWarning: Series.__getitem__ treating keys as positions is deprecated. In a future version, integer keys will always be treated as labels (consistent with DataFrame behavior). To access a value by position, use `ser.iloc[pos]`\n",
      "  indicators[i:i+5].ma20,\n"
     ]
    },
    {
     "name": "stdout",
     "output_type": "stream",
     "text": [
      "142/142 [==============================] - 0s 2ms/step - loss: 19872.9727\n"
     ]
    },
    {
     "name": "stderr",
     "output_type": "stream",
     "text": [
      "c:\\Users\\gelos\\OneDrive\\Desktop\\scripts\\python\\idp\\predictor_class.py:96: FutureWarning: Series.__getitem__ treating keys as positions is deprecated. In a future version, integer keys will always be treated as labels (consistent with DataFrame behavior). To access a value by position, use `ser.iloc[pos]`\n",
      "  indicators[i:i+5].ma20,\n"
     ]
    },
    {
     "name": "stdout",
     "output_type": "stream",
     "text": [
      "142/142 [==============================] - 0s 2ms/step - loss: 180.1814\n"
     ]
    },
    {
     "name": "stderr",
     "output_type": "stream",
     "text": [
      "c:\\Users\\gelos\\OneDrive\\Desktop\\scripts\\python\\idp\\predictor_class.py:96: FutureWarning: Series.__getitem__ treating keys as positions is deprecated. In a future version, integer keys will always be treated as labels (consistent with DataFrame behavior). To access a value by position, use `ser.iloc[pos]`\n",
      "  indicators[i:i+5].ma20,\n"
     ]
    },
    {
     "name": "stdout",
     "output_type": "stream",
     "text": [
      "142/142 [==============================] - 0s 2ms/step - loss: 88.8802\n"
     ]
    },
    {
     "name": "stderr",
     "output_type": "stream",
     "text": [
      "c:\\Users\\gelos\\OneDrive\\Desktop\\scripts\\python\\idp\\predictor_class.py:96: FutureWarning: Series.__getitem__ treating keys as positions is deprecated. In a future version, integer keys will always be treated as labels (consistent with DataFrame behavior). To access a value by position, use `ser.iloc[pos]`\n",
      "  indicators[i:i+5].ma20,\n"
     ]
    },
    {
     "name": "stdout",
     "output_type": "stream",
     "text": [
      "142/142 [==============================] - 1s 2ms/step - loss: 8493.0889\n"
     ]
    },
    {
     "name": "stderr",
     "output_type": "stream",
     "text": [
      "c:\\Users\\gelos\\OneDrive\\Desktop\\scripts\\python\\idp\\predictor_class.py:96: FutureWarning: Series.__getitem__ treating keys as positions is deprecated. In a future version, integer keys will always be treated as labels (consistent with DataFrame behavior). To access a value by position, use `ser.iloc[pos]`\n",
      "  indicators[i:i+5].ma20,\n"
     ]
    },
    {
     "name": "stdout",
     "output_type": "stream",
     "text": [
      "142/142 [==============================] - 0s 2ms/step - loss: 1778.3037\n"
     ]
    },
    {
     "name": "stderr",
     "output_type": "stream",
     "text": [
      "c:\\Users\\gelos\\OneDrive\\Desktop\\scripts\\python\\idp\\predictor_class.py:96: FutureWarning: Series.__getitem__ treating keys as positions is deprecated. In a future version, integer keys will always be treated as labels (consistent with DataFrame behavior). To access a value by position, use `ser.iloc[pos]`\n",
      "  indicators[i:i+5].ma20,\n"
     ]
    },
    {
     "name": "stdout",
     "output_type": "stream",
     "text": [
      "142/142 [==============================] - 0s 2ms/step - loss: 267.2367\n"
     ]
    },
    {
     "name": "stderr",
     "output_type": "stream",
     "text": [
      "c:\\Users\\gelos\\OneDrive\\Desktop\\scripts\\python\\idp\\predictor_class.py:96: FutureWarning: Series.__getitem__ treating keys as positions is deprecated. In a future version, integer keys will always be treated as labels (consistent with DataFrame behavior). To access a value by position, use `ser.iloc[pos]`\n",
      "  indicators[i:i+5].ma20,\n"
     ]
    },
    {
     "name": "stdout",
     "output_type": "stream",
     "text": [
      "142/142 [==============================] - 0s 2ms/step - loss: 45.1014\n"
     ]
    },
    {
     "name": "stderr",
     "output_type": "stream",
     "text": [
      "c:\\Users\\gelos\\OneDrive\\Desktop\\scripts\\python\\idp\\predictor_class.py:96: FutureWarning: Series.__getitem__ treating keys as positions is deprecated. In a future version, integer keys will always be treated as labels (consistent with DataFrame behavior). To access a value by position, use `ser.iloc[pos]`\n",
      "  indicators[i:i+5].ma20,\n"
     ]
    },
    {
     "name": "stdout",
     "output_type": "stream",
     "text": [
      "142/142 [==============================] - 0s 2ms/step - loss: 1249.5298\n"
     ]
    },
    {
     "name": "stderr",
     "output_type": "stream",
     "text": [
      "c:\\Users\\gelos\\OneDrive\\Desktop\\scripts\\python\\idp\\predictor_class.py:96: FutureWarning: Series.__getitem__ treating keys as positions is deprecated. In a future version, integer keys will always be treated as labels (consistent with DataFrame behavior). To access a value by position, use `ser.iloc[pos]`\n",
      "  indicators[i:i+5].ma20,\n"
     ]
    },
    {
     "name": "stdout",
     "output_type": "stream",
     "text": [
      "142/142 [==============================] - 0s 2ms/step - loss: 19872.8066\n"
     ]
    },
    {
     "name": "stderr",
     "output_type": "stream",
     "text": [
      "c:\\Users\\gelos\\OneDrive\\Desktop\\scripts\\python\\idp\\predictor_class.py:96: FutureWarning: Series.__getitem__ treating keys as positions is deprecated. In a future version, integer keys will always be treated as labels (consistent with DataFrame behavior). To access a value by position, use `ser.iloc[pos]`\n",
      "  indicators[i:i+5].ma20,\n"
     ]
    },
    {
     "name": "stdout",
     "output_type": "stream",
     "text": [
      "142/142 [==============================] - 0s 2ms/step - loss: 180.1818\n"
     ]
    },
    {
     "name": "stderr",
     "output_type": "stream",
     "text": [
      "c:\\Users\\gelos\\OneDrive\\Desktop\\scripts\\python\\idp\\predictor_class.py:96: FutureWarning: Series.__getitem__ treating keys as positions is deprecated. In a future version, integer keys will always be treated as labels (consistent with DataFrame behavior). To access a value by position, use `ser.iloc[pos]`\n",
      "  indicators[i:i+5].ma20,\n"
     ]
    },
    {
     "name": "stdout",
     "output_type": "stream",
     "text": [
      "142/142 [==============================] - 0s 2ms/step - loss: 88.8786\n"
     ]
    },
    {
     "name": "stderr",
     "output_type": "stream",
     "text": [
      "c:\\Users\\gelos\\OneDrive\\Desktop\\scripts\\python\\idp\\predictor_class.py:96: FutureWarning: Series.__getitem__ treating keys as positions is deprecated. In a future version, integer keys will always be treated as labels (consistent with DataFrame behavior). To access a value by position, use `ser.iloc[pos]`\n",
      "  indicators[i:i+5].ma20,\n"
     ]
    },
    {
     "name": "stdout",
     "output_type": "stream",
     "text": [
      "142/142 [==============================] - 1s 2ms/step - loss: 8493.3994\n"
     ]
    },
    {
     "name": "stderr",
     "output_type": "stream",
     "text": [
      "c:\\Users\\gelos\\OneDrive\\Desktop\\scripts\\python\\idp\\predictor_class.py:96: FutureWarning: Series.__getitem__ treating keys as positions is deprecated. In a future version, integer keys will always be treated as labels (consistent with DataFrame behavior). To access a value by position, use `ser.iloc[pos]`\n",
      "  indicators[i:i+5].ma20,\n"
     ]
    },
    {
     "name": "stdout",
     "output_type": "stream",
     "text": [
      "142/142 [==============================] - 0s 2ms/step - loss: 1778.2883\n"
     ]
    },
    {
     "name": "stderr",
     "output_type": "stream",
     "text": [
      "c:\\Users\\gelos\\OneDrive\\Desktop\\scripts\\python\\idp\\predictor_class.py:96: FutureWarning: Series.__getitem__ treating keys as positions is deprecated. In a future version, integer keys will always be treated as labels (consistent with DataFrame behavior). To access a value by position, use `ser.iloc[pos]`\n",
      "  indicators[i:i+5].ma20,\n"
     ]
    },
    {
     "name": "stdout",
     "output_type": "stream",
     "text": [
      "142/142 [==============================] - 0s 2ms/step - loss: 267.2343\n"
     ]
    },
    {
     "name": "stderr",
     "output_type": "stream",
     "text": [
      "c:\\Users\\gelos\\OneDrive\\Desktop\\scripts\\python\\idp\\predictor_class.py:96: FutureWarning: Series.__getitem__ treating keys as positions is deprecated. In a future version, integer keys will always be treated as labels (consistent with DataFrame behavior). To access a value by position, use `ser.iloc[pos]`\n",
      "  indicators[i:i+5].ma20,\n"
     ]
    },
    {
     "name": "stdout",
     "output_type": "stream",
     "text": [
      "142/142 [==============================] - 0s 2ms/step - loss: 45.0990\n"
     ]
    },
    {
     "name": "stderr",
     "output_type": "stream",
     "text": [
      "c:\\Users\\gelos\\OneDrive\\Desktop\\scripts\\python\\idp\\predictor_class.py:96: FutureWarning: Series.__getitem__ treating keys as positions is deprecated. In a future version, integer keys will always be treated as labels (consistent with DataFrame behavior). To access a value by position, use `ser.iloc[pos]`\n",
      "  indicators[i:i+5].ma20,\n"
     ]
    },
    {
     "name": "stdout",
     "output_type": "stream",
     "text": [
      "142/142 [==============================] - 0s 2ms/step - loss: 1249.5338\n"
     ]
    },
    {
     "name": "stderr",
     "output_type": "stream",
     "text": [
      "c:\\Users\\gelos\\OneDrive\\Desktop\\scripts\\python\\idp\\predictor_class.py:96: FutureWarning: Series.__getitem__ treating keys as positions is deprecated. In a future version, integer keys will always be treated as labels (consistent with DataFrame behavior). To access a value by position, use `ser.iloc[pos]`\n",
      "  indicators[i:i+5].ma20,\n"
     ]
    },
    {
     "name": "stdout",
     "output_type": "stream",
     "text": [
      "142/142 [==============================] - 0s 2ms/step - loss: 19872.6191\n"
     ]
    },
    {
     "name": "stderr",
     "output_type": "stream",
     "text": [
      "c:\\Users\\gelos\\OneDrive\\Desktop\\scripts\\python\\idp\\predictor_class.py:96: FutureWarning: Series.__getitem__ treating keys as positions is deprecated. In a future version, integer keys will always be treated as labels (consistent with DataFrame behavior). To access a value by position, use `ser.iloc[pos]`\n",
      "  indicators[i:i+5].ma20,\n"
     ]
    },
    {
     "name": "stdout",
     "output_type": "stream",
     "text": [
      "142/142 [==============================] - 0s 2ms/step - loss: 180.1823\n"
     ]
    },
    {
     "name": "stderr",
     "output_type": "stream",
     "text": [
      "c:\\Users\\gelos\\OneDrive\\Desktop\\scripts\\python\\idp\\predictor_class.py:96: FutureWarning: Series.__getitem__ treating keys as positions is deprecated. In a future version, integer keys will always be treated as labels (consistent with DataFrame behavior). To access a value by position, use `ser.iloc[pos]`\n",
      "  indicators[i:i+5].ma20,\n"
     ]
    },
    {
     "name": "stdout",
     "output_type": "stream",
     "text": [
      "142/142 [==============================] - 0s 3ms/step - loss: 88.8769\n"
     ]
    },
    {
     "name": "stderr",
     "output_type": "stream",
     "text": [
      "c:\\Users\\gelos\\OneDrive\\Desktop\\scripts\\python\\idp\\predictor_class.py:96: FutureWarning: Series.__getitem__ treating keys as positions is deprecated. In a future version, integer keys will always be treated as labels (consistent with DataFrame behavior). To access a value by position, use `ser.iloc[pos]`\n",
      "  indicators[i:i+5].ma20,\n"
     ]
    },
    {
     "name": "stdout",
     "output_type": "stream",
     "text": [
      "142/142 [==============================] - 1s 2ms/step - loss: 8493.7080\n"
     ]
    },
    {
     "name": "stderr",
     "output_type": "stream",
     "text": [
      "c:\\Users\\gelos\\OneDrive\\Desktop\\scripts\\python\\idp\\predictor_class.py:96: FutureWarning: Series.__getitem__ treating keys as positions is deprecated. In a future version, integer keys will always be treated as labels (consistent with DataFrame behavior). To access a value by position, use `ser.iloc[pos]`\n",
      "  indicators[i:i+5].ma20,\n"
     ]
    },
    {
     "name": "stdout",
     "output_type": "stream",
     "text": [
      "142/142 [==============================] - 0s 2ms/step - loss: 1778.2716\n"
     ]
    },
    {
     "name": "stderr",
     "output_type": "stream",
     "text": [
      "c:\\Users\\gelos\\OneDrive\\Desktop\\scripts\\python\\idp\\predictor_class.py:96: FutureWarning: Series.__getitem__ treating keys as positions is deprecated. In a future version, integer keys will always be treated as labels (consistent with DataFrame behavior). To access a value by position, use `ser.iloc[pos]`\n",
      "  indicators[i:i+5].ma20,\n"
     ]
    },
    {
     "name": "stdout",
     "output_type": "stream",
     "text": [
      "142/142 [==============================] - 0s 2ms/step - loss: 267.2314\n"
     ]
    },
    {
     "name": "stderr",
     "output_type": "stream",
     "text": [
      "c:\\Users\\gelos\\OneDrive\\Desktop\\scripts\\python\\idp\\predictor_class.py:96: FutureWarning: Series.__getitem__ treating keys as positions is deprecated. In a future version, integer keys will always be treated as labels (consistent with DataFrame behavior). To access a value by position, use `ser.iloc[pos]`\n",
      "  indicators[i:i+5].ma20,\n"
     ]
    },
    {
     "name": "stdout",
     "output_type": "stream",
     "text": [
      "142/142 [==============================] - 0s 2ms/step - loss: 45.0965\n"
     ]
    },
    {
     "name": "stderr",
     "output_type": "stream",
     "text": [
      "c:\\Users\\gelos\\OneDrive\\Desktop\\scripts\\python\\idp\\predictor_class.py:96: FutureWarning: Series.__getitem__ treating keys as positions is deprecated. In a future version, integer keys will always be treated as labels (consistent with DataFrame behavior). To access a value by position, use `ser.iloc[pos]`\n",
      "  indicators[i:i+5].ma20,\n"
     ]
    },
    {
     "name": "stdout",
     "output_type": "stream",
     "text": [
      "142/142 [==============================] - 0s 2ms/step - loss: 1249.5370\n"
     ]
    },
    {
     "name": "stderr",
     "output_type": "stream",
     "text": [
      "c:\\Users\\gelos\\OneDrive\\Desktop\\scripts\\python\\idp\\predictor_class.py:96: FutureWarning: Series.__getitem__ treating keys as positions is deprecated. In a future version, integer keys will always be treated as labels (consistent with DataFrame behavior). To access a value by position, use `ser.iloc[pos]`\n",
      "  indicators[i:i+5].ma20,\n"
     ]
    },
    {
     "name": "stdout",
     "output_type": "stream",
     "text": [
      "142/142 [==============================] - 0s 2ms/step - loss: 19872.4141\n"
     ]
    },
    {
     "name": "stderr",
     "output_type": "stream",
     "text": [
      "c:\\Users\\gelos\\OneDrive\\Desktop\\scripts\\python\\idp\\predictor_class.py:96: FutureWarning: Series.__getitem__ treating keys as positions is deprecated. In a future version, integer keys will always be treated as labels (consistent with DataFrame behavior). To access a value by position, use `ser.iloc[pos]`\n",
      "  indicators[i:i+5].ma20,\n"
     ]
    },
    {
     "name": "stdout",
     "output_type": "stream",
     "text": [
      "142/142 [==============================] - 0s 2ms/step - loss: 180.1826\n"
     ]
    },
    {
     "name": "stderr",
     "output_type": "stream",
     "text": [
      "c:\\Users\\gelos\\OneDrive\\Desktop\\scripts\\python\\idp\\predictor_class.py:96: FutureWarning: Series.__getitem__ treating keys as positions is deprecated. In a future version, integer keys will always be treated as labels (consistent with DataFrame behavior). To access a value by position, use `ser.iloc[pos]`\n",
      "  indicators[i:i+5].ma20,\n"
     ]
    },
    {
     "name": "stdout",
     "output_type": "stream",
     "text": [
      "142/142 [==============================] - 0s 2ms/step - loss: 88.8752\n",
      "[*********************100%%**********************]  1 of 1 completed\n"
     ]
    },
    {
     "name": "stderr",
     "output_type": "stream",
     "text": [
      "c:\\Users\\gelos\\OneDrive\\Desktop\\scripts\\python\\idp\\predictor_class.py:96: FutureWarning: Series.__getitem__ treating keys as positions is deprecated. In a future version, integer keys will always be treated as labels (consistent with DataFrame behavior). To access a value by position, use `ser.iloc[pos]`\n",
      "  indicators[i:i+5].ma20,\n",
      "c:\\Users\\gelos\\OneDrive\\Desktop\\scripts\\python\\idp\\predictor_class.py:28: RuntimeWarning: divide by zero encountered in divide\n",
      "  for i in range(len(labels)-1):\n"
     ]
    }
   ],
   "source": [
    "goog_estimator_s1 = predictor_class.predictor(l, optimizer = tf.keras.optimizers.legacy.Adam(0.001), scope = 1)\n",
    "goog_estimator_s2 = predictor_class.predictor(l, optimizer = tf.keras.optimizers.legacy.Adam(0.001), scope = 2)\n",
    "goog_estimator_s3 = predictor_class.predictor(l, optimizer = tf.keras.optimizers.legacy.Adam(0.001), scope = 3)\n",
    "goog_estimator_s4 = predictor_class.predictor(l, optimizer = tf.keras.optimizers.legacy.Adam(0.001), scope = 4)\n",
    "goog_estimator_s5 = predictor_class.predictor(l, optimizer = tf.keras.optimizers.legacy.Adam(0.001), scope = 5) #tcehy estimators\n",
    "\n",
    "squad = [est for est in [goog_estimator_s1, goog_estimator_s2, goog_estimator_s3, goog_estimator_s4, goog_estimator_s5]]\n",
    "lsis = [] #list of labels for examining bias of each scope\n",
    "for each in squad:\n",
    "    for s in securities:\n",
    "        ins = predictor_class.createdataset(s)\n",
    "        tr, lsi = predictor_class.get_trainingdata(ins, scope=each.scope)\n",
    "        each.train(tr, lsi, epochs = 1)\n",
    "\n",
    "goog_lsis = []\n",
    "goog_trs = []\n",
    "secu = yf.download('tcehy', period='60d', interval='5m')\n",
    "ins = predictor_class.createdataset(secu)\n",
    "for est in squad:\n",
    "    training_data, labels1 = predictor_class.get_trainingdata(ins, scope = est.scope)\n",
    "    goog_trs.append(training_data)\n",
    "    goog_lsis.append(labels1)\n",
    "    est.examine_bias(secu, goog_trs[est.scope-1][-1000:], goog_lsis[est.scope-1][-1000:])"
   ]
  },
  {
   "cell_type": "code",
   "execution_count": 3,
   "metadata": {},
   "outputs": [
    {
     "name": "stdout",
     "output_type": "stream",
     "text": [
      "(array([[-0.55102843]], dtype=float32), 0.0)\n",
      "(array([[-0.5510283]], dtype=float32), 0.0)\n",
      "(array([[-0.5510281]], dtype=float32), 0.0)\n",
      "(array([[-0.55102813]], dtype=float32), 0.0)\n",
      "(array([[-0.55102795]], dtype=float32), 0.0)\n"
     ]
    }
   ],
   "source": [
    "for est in squad:\n",
    "    print(est.bias)"
   ]
  },
  {
   "cell_type": "code",
   "execution_count": 3,
   "metadata": {},
   "outputs": [
    {
     "name": "stdout",
     "output_type": "stream",
     "text": [
      "Epoch 1/80\n",
      "142/142 [==============================] - 0s 2ms/step - loss: 20.9959\n",
      "Epoch 2/80\n",
      "142/142 [==============================] - 0s 2ms/step - loss: 1.1354\n",
      "Epoch 3/80\n",
      "142/142 [==============================] - 0s 2ms/step - loss: 0.9627\n",
      "Epoch 4/80\n",
      "142/142 [==============================] - 0s 2ms/step - loss: 0.7712\n",
      "Epoch 5/80\n",
      "142/142 [==============================] - 0s 2ms/step - loss: 0.6492\n",
      "Epoch 6/80\n",
      "142/142 [==============================] - 0s 2ms/step - loss: 0.5447\n",
      "Epoch 7/80\n",
      "142/142 [==============================] - 0s 2ms/step - loss: 0.4690\n",
      "Epoch 8/80\n",
      "142/142 [==============================] - 0s 2ms/step - loss: 0.4650\n",
      "Epoch 9/80\n",
      "142/142 [==============================] - 0s 2ms/step - loss: 0.4202\n",
      "Epoch 10/80\n",
      "142/142 [==============================] - 0s 2ms/step - loss: 0.3960\n",
      "Epoch 11/80\n",
      "142/142 [==============================] - 0s 2ms/step - loss: 0.3893\n",
      "Epoch 12/80\n",
      "142/142 [==============================] - 0s 2ms/step - loss: 0.3996\n",
      "Epoch 13/80\n",
      "142/142 [==============================] - 0s 2ms/step - loss: 0.3696\n",
      "Epoch 14/80\n",
      "142/142 [==============================] - 0s 2ms/step - loss: 0.3566\n",
      "Epoch 15/80\n",
      "142/142 [==============================] - 0s 2ms/step - loss: 0.3623\n",
      "Epoch 16/80\n",
      "142/142 [==============================] - 0s 2ms/step - loss: 0.3575\n",
      "Epoch 17/80\n",
      "142/142 [==============================] - 0s 2ms/step - loss: 0.3233\n",
      "Epoch 18/80\n",
      "142/142 [==============================] - 0s 2ms/step - loss: 0.3179\n",
      "Epoch 19/80\n",
      "142/142 [==============================] - 0s 2ms/step - loss: 0.3215\n",
      "Epoch 20/80\n",
      "142/142 [==============================] - 0s 2ms/step - loss: 0.3272\n",
      "Epoch 21/80\n",
      "142/142 [==============================] - 0s 2ms/step - loss: 0.3057\n",
      "Epoch 22/80\n",
      "142/142 [==============================] - 0s 2ms/step - loss: 0.2918\n",
      "Epoch 23/80\n",
      "142/142 [==============================] - 0s 2ms/step - loss: 0.3084\n",
      "Epoch 24/80\n",
      "142/142 [==============================] - 0s 2ms/step - loss: 0.3073\n",
      "Epoch 25/80\n",
      "142/142 [==============================] - 0s 2ms/step - loss: 0.2828\n",
      "Epoch 26/80\n",
      "142/142 [==============================] - 0s 2ms/step - loss: 0.2617\n",
      "Epoch 27/80\n",
      "142/142 [==============================] - 0s 2ms/step - loss: 0.2691\n",
      "Epoch 28/80\n",
      "142/142 [==============================] - 0s 2ms/step - loss: 0.2430\n",
      "Epoch 29/80\n",
      "142/142 [==============================] - 0s 2ms/step - loss: 0.2716\n",
      "Epoch 30/80\n",
      "142/142 [==============================] - 0s 2ms/step - loss: 0.2951\n",
      "Epoch 31/80\n",
      "142/142 [==============================] - 0s 2ms/step - loss: 0.2502\n",
      "Epoch 32/80\n",
      "142/142 [==============================] - 0s 2ms/step - loss: 0.2371\n",
      "Epoch 33/80\n",
      "142/142 [==============================] - 0s 2ms/step - loss: 0.2227\n",
      "Epoch 34/80\n",
      "142/142 [==============================] - 0s 2ms/step - loss: 0.2236\n",
      "Epoch 35/80\n",
      "142/142 [==============================] - 0s 2ms/step - loss: 0.2273\n",
      "Epoch 36/80\n",
      "142/142 [==============================] - 0s 2ms/step - loss: 0.2185\n",
      "Epoch 37/80\n",
      "142/142 [==============================] - 0s 2ms/step - loss: 0.2349\n",
      "Epoch 38/80\n",
      "142/142 [==============================] - 0s 2ms/step - loss: 0.2151\n",
      "Epoch 39/80\n",
      "142/142 [==============================] - 0s 2ms/step - loss: 0.2444\n",
      "Epoch 40/80\n",
      "142/142 [==============================] - 0s 2ms/step - loss: 0.2350\n",
      "Epoch 41/80\n",
      "142/142 [==============================] - 0s 2ms/step - loss: 0.1976\n",
      "Epoch 42/80\n",
      "142/142 [==============================] - 0s 2ms/step - loss: 0.2165\n",
      "Epoch 43/80\n",
      "142/142 [==============================] - 0s 2ms/step - loss: 0.2075\n",
      "Epoch 44/80\n",
      "142/142 [==============================] - 0s 2ms/step - loss: 0.1864\n",
      "Epoch 45/80\n",
      "142/142 [==============================] - 0s 2ms/step - loss: 0.2006\n",
      "Epoch 46/80\n",
      "142/142 [==============================] - 0s 2ms/step - loss: 0.2143\n",
      "Epoch 47/80\n",
      "142/142 [==============================] - 0s 2ms/step - loss: 0.2087\n",
      "Epoch 48/80\n",
      "142/142 [==============================] - 0s 2ms/step - loss: 0.1825\n",
      "Epoch 49/80\n",
      "142/142 [==============================] - 0s 2ms/step - loss: 0.1924\n",
      "Epoch 50/80\n",
      "142/142 [==============================] - 0s 2ms/step - loss: 0.2058\n",
      "Epoch 51/80\n",
      "142/142 [==============================] - 0s 2ms/step - loss: 0.1821\n",
      "Epoch 52/80\n",
      "142/142 [==============================] - 0s 2ms/step - loss: 0.1903\n",
      "Epoch 53/80\n",
      "142/142 [==============================] - 0s 2ms/step - loss: 0.1744\n",
      "Epoch 54/80\n",
      "142/142 [==============================] - 0s 2ms/step - loss: 0.1915\n",
      "Epoch 55/80\n",
      "142/142 [==============================] - 0s 2ms/step - loss: 0.1694\n",
      "Epoch 56/80\n",
      "142/142 [==============================] - 0s 2ms/step - loss: 0.2062\n",
      "Epoch 57/80\n",
      "142/142 [==============================] - 0s 2ms/step - loss: 0.1833\n",
      "Epoch 58/80\n",
      "142/142 [==============================] - 0s 2ms/step - loss: 0.1865\n",
      "Epoch 59/80\n",
      "142/142 [==============================] - 0s 2ms/step - loss: 0.1875\n",
      "Epoch 60/80\n",
      "142/142 [==============================] - 0s 2ms/step - loss: 0.1985\n",
      "Epoch 61/80\n",
      "142/142 [==============================] - 0s 2ms/step - loss: 0.1650\n",
      "Epoch 62/80\n",
      "142/142 [==============================] - 0s 2ms/step - loss: 0.1589\n",
      "Epoch 63/80\n",
      "142/142 [==============================] - 0s 2ms/step - loss: 0.1532\n",
      "Epoch 64/80\n",
      "142/142 [==============================] - 0s 2ms/step - loss: 0.1983\n",
      "Epoch 65/80\n",
      "142/142 [==============================] - 0s 2ms/step - loss: 0.1503\n",
      "Epoch 66/80\n",
      "142/142 [==============================] - 0s 2ms/step - loss: 0.1466\n",
      "Epoch 67/80\n",
      "142/142 [==============================] - 0s 2ms/step - loss: 0.1837\n",
      "Epoch 68/80\n",
      "142/142 [==============================] - 0s 2ms/step - loss: 0.1558\n",
      "Epoch 69/80\n",
      "142/142 [==============================] - 0s 2ms/step - loss: 0.1604\n",
      "Epoch 70/80\n",
      "142/142 [==============================] - 0s 2ms/step - loss: 0.1830\n",
      "Epoch 71/80\n",
      "142/142 [==============================] - 0s 2ms/step - loss: 0.1474\n",
      "Epoch 72/80\n",
      "142/142 [==============================] - 0s 2ms/step - loss: 0.1366\n",
      "Epoch 73/80\n",
      "142/142 [==============================] - 0s 2ms/step - loss: 0.1643\n",
      "Epoch 74/80\n",
      "142/142 [==============================] - 0s 2ms/step - loss: 0.1480\n",
      "Epoch 75/80\n",
      "142/142 [==============================] - 0s 2ms/step - loss: 0.1612\n",
      "Epoch 76/80\n",
      "142/142 [==============================] - 0s 2ms/step - loss: 0.1636\n",
      "Epoch 77/80\n",
      "142/142 [==============================] - 0s 2ms/step - loss: 0.1592\n",
      "Epoch 78/80\n",
      "142/142 [==============================] - 0s 2ms/step - loss: 0.1327\n",
      "Epoch 79/80\n",
      "142/142 [==============================] - 0s 2ms/step - loss: 0.1580\n",
      "Epoch 80/80\n",
      "142/142 [==============================] - 0s 2ms/step - loss: 0.1712\n",
      "Epoch 1/80\n",
      "142/142 [==============================] - 0s 2ms/step - loss: 0.2114\n",
      "Epoch 2/80\n",
      "142/142 [==============================] - 0s 2ms/step - loss: 0.1987\n",
      "Epoch 3/80\n",
      "142/142 [==============================] - 0s 2ms/step - loss: 0.1717\n",
      "Epoch 4/80\n",
      "142/142 [==============================] - 0s 2ms/step - loss: 0.1758\n",
      "Epoch 5/80\n",
      "142/142 [==============================] - 0s 2ms/step - loss: 0.1936\n",
      "Epoch 6/80\n",
      "142/142 [==============================] - 0s 2ms/step - loss: 0.1959\n",
      "Epoch 7/80\n",
      "142/142 [==============================] - 0s 2ms/step - loss: 0.1789\n",
      "Epoch 8/80\n",
      "142/142 [==============================] - 0s 2ms/step - loss: 0.1664\n",
      "Epoch 9/80\n",
      "142/142 [==============================] - 0s 2ms/step - loss: 0.1592\n",
      "Epoch 10/80\n",
      "142/142 [==============================] - 0s 2ms/step - loss: 0.1553\n",
      "Epoch 11/80\n",
      "142/142 [==============================] - 0s 2ms/step - loss: 0.1601\n",
      "Epoch 12/80\n",
      "142/142 [==============================] - 0s 2ms/step - loss: 0.1736\n",
      "Epoch 13/80\n",
      "142/142 [==============================] - 0s 2ms/step - loss: 0.1302\n",
      "Epoch 14/80\n",
      "142/142 [==============================] - 0s 2ms/step - loss: 0.1555\n",
      "Epoch 15/80\n",
      "142/142 [==============================] - 0s 2ms/step - loss: 0.1848\n",
      "Epoch 16/80\n",
      "142/142 [==============================] - 0s 2ms/step - loss: 0.1549\n",
      "Epoch 17/80\n",
      "142/142 [==============================] - 0s 2ms/step - loss: 0.1504\n",
      "Epoch 18/80\n",
      "142/142 [==============================] - 0s 2ms/step - loss: 0.1606\n",
      "Epoch 19/80\n",
      "142/142 [==============================] - 0s 2ms/step - loss: 0.1553\n",
      "Epoch 20/80\n",
      "142/142 [==============================] - 0s 2ms/step - loss: 0.1612\n",
      "Epoch 21/80\n",
      "142/142 [==============================] - 0s 2ms/step - loss: 0.1484\n",
      "Epoch 22/80\n",
      "142/142 [==============================] - 0s 2ms/step - loss: 0.1569\n",
      "Epoch 23/80\n",
      "142/142 [==============================] - 0s 2ms/step - loss: 0.1407\n",
      "Epoch 24/80\n",
      "142/142 [==============================] - 0s 2ms/step - loss: 0.1610\n",
      "Epoch 25/80\n",
      "142/142 [==============================] - 0s 2ms/step - loss: 0.1415\n",
      "Epoch 26/80\n",
      "142/142 [==============================] - 0s 2ms/step - loss: 0.1430\n",
      "Epoch 27/80\n",
      "142/142 [==============================] - 0s 2ms/step - loss: 0.1639\n",
      "Epoch 28/80\n",
      "142/142 [==============================] - 0s 2ms/step - loss: 0.1361\n",
      "Epoch 29/80\n",
      "142/142 [==============================] - 0s 2ms/step - loss: 0.1497\n",
      "Epoch 30/80\n",
      "142/142 [==============================] - 0s 2ms/step - loss: 0.1380\n",
      "Epoch 31/80\n",
      "142/142 [==============================] - 0s 2ms/step - loss: 0.1390\n",
      "Epoch 32/80\n",
      "142/142 [==============================] - 0s 2ms/step - loss: 0.1354\n",
      "Epoch 33/80\n",
      "142/142 [==============================] - 0s 2ms/step - loss: 0.1561\n",
      "Epoch 34/80\n",
      "142/142 [==============================] - 0s 2ms/step - loss: 0.1376\n",
      "Epoch 35/80\n",
      "142/142 [==============================] - 0s 2ms/step - loss: 0.1193\n",
      "Epoch 36/80\n",
      "142/142 [==============================] - 0s 2ms/step - loss: 0.1576\n",
      "Epoch 37/80\n",
      "142/142 [==============================] - 0s 2ms/step - loss: 0.1391\n",
      "Epoch 38/80\n",
      "142/142 [==============================] - 0s 2ms/step - loss: 0.1732\n",
      "Epoch 39/80\n",
      "142/142 [==============================] - 0s 2ms/step - loss: 0.1784\n",
      "Epoch 40/80\n",
      "142/142 [==============================] - 0s 2ms/step - loss: 0.1251\n",
      "Epoch 41/80\n",
      "142/142 [==============================] - 0s 2ms/step - loss: 0.1271\n",
      "Epoch 42/80\n",
      "142/142 [==============================] - 0s 2ms/step - loss: 0.1602\n",
      "Epoch 43/80\n",
      "142/142 [==============================] - 0s 2ms/step - loss: 0.1294\n",
      "Epoch 44/80\n",
      "142/142 [==============================] - 0s 2ms/step - loss: 0.1428\n",
      "Epoch 45/80\n",
      "142/142 [==============================] - 0s 2ms/step - loss: 0.1421\n",
      "Epoch 46/80\n",
      "142/142 [==============================] - 0s 2ms/step - loss: 0.1243\n",
      "Epoch 47/80\n",
      "142/142 [==============================] - 0s 2ms/step - loss: 0.1263\n",
      "Epoch 48/80\n",
      "142/142 [==============================] - 0s 2ms/step - loss: 0.1493\n",
      "Epoch 49/80\n",
      "142/142 [==============================] - 0s 2ms/step - loss: 0.1241\n",
      "Epoch 50/80\n",
      "142/142 [==============================] - 0s 2ms/step - loss: 0.1181\n",
      "Epoch 51/80\n",
      "142/142 [==============================] - 0s 2ms/step - loss: 0.1202\n",
      "Epoch 52/80\n",
      "142/142 [==============================] - 0s 2ms/step - loss: 0.1832\n",
      "Epoch 53/80\n",
      "142/142 [==============================] - 0s 2ms/step - loss: 0.1309\n",
      "Epoch 54/80\n",
      "142/142 [==============================] - 0s 2ms/step - loss: 0.1587\n",
      "Epoch 55/80\n",
      "142/142 [==============================] - 0s 2ms/step - loss: 0.1430\n",
      "Epoch 56/80\n",
      "142/142 [==============================] - 0s 2ms/step - loss: 0.1273\n",
      "Epoch 57/80\n",
      "142/142 [==============================] - 0s 2ms/step - loss: 0.1308\n",
      "Epoch 58/80\n",
      "142/142 [==============================] - 0s 2ms/step - loss: 0.1804\n",
      "Epoch 59/80\n",
      "142/142 [==============================] - 0s 2ms/step - loss: 0.1429\n",
      "Epoch 60/80\n",
      "142/142 [==============================] - 0s 2ms/step - loss: 0.1419\n",
      "Epoch 61/80\n",
      "142/142 [==============================] - 0s 2ms/step - loss: 0.1435\n",
      "Epoch 62/80\n",
      "142/142 [==============================] - 0s 2ms/step - loss: 0.1271\n",
      "Epoch 63/80\n",
      "142/142 [==============================] - 0s 2ms/step - loss: 0.1348\n",
      "Epoch 64/80\n",
      "142/142 [==============================] - 0s 2ms/step - loss: 0.1480\n",
      "Epoch 65/80\n",
      "142/142 [==============================] - 0s 2ms/step - loss: 0.1331\n",
      "Epoch 66/80\n",
      "142/142 [==============================] - 0s 2ms/step - loss: 0.1387\n",
      "Epoch 67/80\n",
      "142/142 [==============================] - 0s 2ms/step - loss: 0.1483\n",
      "Epoch 68/80\n",
      "142/142 [==============================] - 0s 2ms/step - loss: 0.1209\n",
      "Epoch 69/80\n",
      "142/142 [==============================] - 0s 2ms/step - loss: 0.1419\n",
      "Epoch 70/80\n",
      "142/142 [==============================] - 0s 2ms/step - loss: 0.1187\n",
      "Epoch 71/80\n",
      "142/142 [==============================] - 0s 2ms/step - loss: 0.1247\n",
      "Epoch 72/80\n",
      "142/142 [==============================] - 0s 2ms/step - loss: 0.1312\n",
      "Epoch 73/80\n",
      "142/142 [==============================] - 0s 2ms/step - loss: 0.1125\n",
      "Epoch 74/80\n",
      "142/142 [==============================] - 0s 2ms/step - loss: 0.1387\n",
      "Epoch 75/80\n",
      "142/142 [==============================] - 0s 2ms/step - loss: 0.1229\n",
      "Epoch 76/80\n",
      "142/142 [==============================] - 0s 2ms/step - loss: 0.1624\n",
      "Epoch 77/80\n",
      "142/142 [==============================] - 0s 2ms/step - loss: 0.1315\n",
      "Epoch 78/80\n",
      "142/142 [==============================] - 0s 2ms/step - loss: 0.1126\n",
      "Epoch 79/80\n",
      "142/142 [==============================] - 0s 2ms/step - loss: 0.1290\n",
      "Epoch 80/80\n",
      "142/142 [==============================] - 0s 2ms/step - loss: 0.1256\n",
      "Epoch 1/80\n",
      "142/142 [==============================] - 0s 3ms/step - loss: 0.2552\n",
      "Epoch 2/80\n",
      "142/142 [==============================] - 0s 3ms/step - loss: 0.1401\n",
      "Epoch 3/80\n",
      "142/142 [==============================] - 0s 3ms/step - loss: 0.1768\n",
      "Epoch 4/80\n",
      "142/142 [==============================] - 0s 3ms/step - loss: 0.1540\n",
      "Epoch 5/80\n",
      "142/142 [==============================] - 0s 3ms/step - loss: 0.1380\n",
      "Epoch 6/80\n",
      "142/142 [==============================] - 0s 2ms/step - loss: 0.1607\n",
      "Epoch 7/80\n",
      "142/142 [==============================] - 0s 2ms/step - loss: 0.1545\n",
      "Epoch 8/80\n",
      "142/142 [==============================] - 0s 3ms/step - loss: 0.1423\n",
      "Epoch 9/80\n",
      "142/142 [==============================] - 0s 3ms/step - loss: 0.1278\n",
      "Epoch 10/80\n",
      "142/142 [==============================] - 0s 3ms/step - loss: 0.1195\n",
      "Epoch 11/80\n",
      "142/142 [==============================] - 0s 3ms/step - loss: 0.1400\n",
      "Epoch 12/80\n",
      "142/142 [==============================] - 0s 3ms/step - loss: 0.1422\n",
      "Epoch 13/80\n",
      "142/142 [==============================] - 0s 3ms/step - loss: 0.1581\n",
      "Epoch 14/80\n",
      "142/142 [==============================] - 0s 3ms/step - loss: 0.1392\n",
      "Epoch 15/80\n",
      "142/142 [==============================] - 0s 2ms/step - loss: 0.1549\n",
      "Epoch 16/80\n",
      "142/142 [==============================] - 0s 3ms/step - loss: 0.1523\n",
      "Epoch 17/80\n",
      "142/142 [==============================] - 0s 2ms/step - loss: 0.1335\n",
      "Epoch 18/80\n",
      "142/142 [==============================] - 0s 2ms/step - loss: 0.1596\n",
      "Epoch 19/80\n",
      "142/142 [==============================] - 0s 2ms/step - loss: 0.1279\n",
      "Epoch 20/80\n",
      "142/142 [==============================] - 0s 2ms/step - loss: 0.1370\n",
      "Epoch 21/80\n",
      "142/142 [==============================] - 0s 2ms/step - loss: 0.1235\n",
      "Epoch 22/80\n",
      "142/142 [==============================] - 0s 2ms/step - loss: 0.1260\n",
      "Epoch 23/80\n",
      "142/142 [==============================] - 0s 2ms/step - loss: 0.1299\n",
      "Epoch 24/80\n",
      "142/142 [==============================] - 0s 2ms/step - loss: 0.1358\n",
      "Epoch 25/80\n",
      "142/142 [==============================] - 0s 2ms/step - loss: 0.1448\n",
      "Epoch 26/80\n",
      "142/142 [==============================] - 0s 2ms/step - loss: 0.1227\n",
      "Epoch 27/80\n",
      "142/142 [==============================] - 0s 2ms/step - loss: 0.1561\n",
      "Epoch 28/80\n",
      "142/142 [==============================] - 0s 2ms/step - loss: 0.1282\n",
      "Epoch 29/80\n",
      "142/142 [==============================] - 0s 3ms/step - loss: 0.1360\n",
      "Epoch 30/80\n",
      "142/142 [==============================] - 0s 3ms/step - loss: 0.1363\n",
      "Epoch 31/80\n",
      "142/142 [==============================] - 0s 3ms/step - loss: 0.1459\n",
      "Epoch 32/80\n",
      "142/142 [==============================] - 0s 3ms/step - loss: 0.1363\n",
      "Epoch 33/80\n",
      "142/142 [==============================] - 0s 3ms/step - loss: 0.1303\n",
      "Epoch 34/80\n",
      "142/142 [==============================] - 0s 3ms/step - loss: 0.1183\n",
      "Epoch 35/80\n",
      "142/142 [==============================] - 0s 3ms/step - loss: 0.1664\n",
      "Epoch 36/80\n",
      "142/142 [==============================] - 0s 3ms/step - loss: 0.1270\n",
      "Epoch 37/80\n",
      "142/142 [==============================] - 0s 3ms/step - loss: 0.1424\n",
      "Epoch 38/80\n",
      "142/142 [==============================] - 0s 3ms/step - loss: 0.1257\n",
      "Epoch 39/80\n",
      "142/142 [==============================] - 0s 3ms/step - loss: 0.1241\n",
      "Epoch 40/80\n",
      "142/142 [==============================] - 0s 3ms/step - loss: 0.1327\n",
      "Epoch 41/80\n",
      "142/142 [==============================] - 0s 3ms/step - loss: 0.1201\n",
      "Epoch 42/80\n",
      "142/142 [==============================] - 0s 3ms/step - loss: 0.1346\n",
      "Epoch 43/80\n",
      "142/142 [==============================] - 0s 3ms/step - loss: 0.1313\n",
      "Epoch 44/80\n",
      "142/142 [==============================] - 0s 3ms/step - loss: 0.1327\n",
      "Epoch 45/80\n",
      "142/142 [==============================] - 0s 3ms/step - loss: 0.1212\n",
      "Epoch 46/80\n",
      "142/142 [==============================] - 0s 3ms/step - loss: 0.1337\n",
      "Epoch 47/80\n",
      "142/142 [==============================] - 0s 3ms/step - loss: 0.1268\n",
      "Epoch 48/80\n",
      "142/142 [==============================] - 0s 3ms/step - loss: 0.1259\n",
      "Epoch 49/80\n",
      "142/142 [==============================] - 0s 3ms/step - loss: 0.1171\n",
      "Epoch 50/80\n",
      "142/142 [==============================] - 0s 2ms/step - loss: 0.1347\n",
      "Epoch 51/80\n",
      "142/142 [==============================] - 0s 2ms/step - loss: 0.1295\n",
      "Epoch 52/80\n",
      "142/142 [==============================] - 0s 2ms/step - loss: 0.1332\n",
      "Epoch 53/80\n",
      "142/142 [==============================] - 0s 2ms/step - loss: 0.1283\n",
      "Epoch 54/80\n",
      "142/142 [==============================] - 0s 2ms/step - loss: 0.1457\n",
      "Epoch 55/80\n",
      "142/142 [==============================] - 0s 2ms/step - loss: 0.1264\n",
      "Epoch 56/80\n",
      "142/142 [==============================] - 0s 2ms/step - loss: 0.1151\n",
      "Epoch 57/80\n",
      "142/142 [==============================] - 0s 2ms/step - loss: 0.1359\n",
      "Epoch 58/80\n",
      "142/142 [==============================] - 0s 2ms/step - loss: 0.1247\n",
      "Epoch 59/80\n",
      "142/142 [==============================] - 0s 2ms/step - loss: 0.1184\n",
      "Epoch 60/80\n",
      "142/142 [==============================] - 0s 2ms/step - loss: 0.1120\n",
      "Epoch 61/80\n",
      "142/142 [==============================] - 0s 2ms/step - loss: 0.1164\n",
      "Epoch 62/80\n",
      "142/142 [==============================] - 0s 2ms/step - loss: 0.1154\n",
      "Epoch 63/80\n",
      "142/142 [==============================] - 0s 3ms/step - loss: 0.1159\n",
      "Epoch 64/80\n",
      "142/142 [==============================] - 0s 3ms/step - loss: 0.1234\n",
      "Epoch 65/80\n",
      "142/142 [==============================] - 0s 3ms/step - loss: 0.1227\n",
      "Epoch 66/80\n",
      "142/142 [==============================] - 0s 2ms/step - loss: 0.1572\n",
      "Epoch 67/80\n",
      "142/142 [==============================] - 0s 2ms/step - loss: 0.1323\n",
      "Epoch 68/80\n",
      "142/142 [==============================] - 0s 2ms/step - loss: 0.1178\n",
      "Epoch 69/80\n",
      "142/142 [==============================] - 0s 2ms/step - loss: 0.1357\n",
      "Epoch 70/80\n",
      "142/142 [==============================] - 0s 2ms/step - loss: 0.1467\n",
      "Epoch 71/80\n",
      "142/142 [==============================] - 0s 2ms/step - loss: 0.1185\n",
      "Epoch 72/80\n",
      "142/142 [==============================] - 0s 2ms/step - loss: 0.1181\n",
      "Epoch 73/80\n",
      "142/142 [==============================] - 0s 2ms/step - loss: 0.1298\n",
      "Epoch 74/80\n",
      "142/142 [==============================] - 0s 2ms/step - loss: 0.1232\n",
      "Epoch 75/80\n",
      "142/142 [==============================] - 0s 3ms/step - loss: 0.1309\n",
      "Epoch 76/80\n",
      "142/142 [==============================] - 0s 2ms/step - loss: 0.1251\n",
      "Epoch 77/80\n",
      "142/142 [==============================] - 0s 2ms/step - loss: 0.1048\n",
      "Epoch 78/80\n",
      "142/142 [==============================] - 0s 2ms/step - loss: 0.1055\n",
      "Epoch 79/80\n",
      "142/142 [==============================] - 0s 2ms/step - loss: 0.1020\n",
      "Epoch 80/80\n",
      "142/142 [==============================] - 0s 2ms/step - loss: 0.1191\n",
      "Epoch 1/80\n",
      "142/142 [==============================] - 0s 2ms/step - loss: 0.2417\n",
      "Epoch 2/80\n",
      "142/142 [==============================] - 0s 2ms/step - loss: 0.1572\n",
      "Epoch 3/80\n",
      "142/142 [==============================] - 0s 2ms/step - loss: 0.1318\n",
      "Epoch 4/80\n",
      "142/142 [==============================] - 0s 2ms/step - loss: 0.1408\n",
      "Epoch 5/80\n",
      "142/142 [==============================] - 0s 2ms/step - loss: 0.1599\n",
      "Epoch 6/80\n",
      "142/142 [==============================] - 0s 2ms/step - loss: 0.1672\n",
      "Epoch 7/80\n",
      "142/142 [==============================] - 0s 2ms/step - loss: 0.1717\n",
      "Epoch 8/80\n",
      "142/142 [==============================] - 0s 3ms/step - loss: 0.1428\n",
      "Epoch 9/80\n",
      "142/142 [==============================] - 0s 2ms/step - loss: 0.1298\n",
      "Epoch 10/80\n",
      "142/142 [==============================] - 0s 2ms/step - loss: 0.1291\n",
      "Epoch 11/80\n",
      "142/142 [==============================] - 0s 3ms/step - loss: 0.1363\n",
      "Epoch 12/80\n",
      "142/142 [==============================] - 0s 3ms/step - loss: 0.1279\n",
      "Epoch 13/80\n",
      "142/142 [==============================] - 0s 3ms/step - loss: 0.1499\n",
      "Epoch 14/80\n",
      "142/142 [==============================] - 0s 2ms/step - loss: 0.1404\n",
      "Epoch 15/80\n",
      "142/142 [==============================] - 0s 2ms/step - loss: 0.1205\n",
      "Epoch 16/80\n",
      "142/142 [==============================] - 0s 2ms/step - loss: 0.1398\n",
      "Epoch 17/80\n",
      "142/142 [==============================] - 0s 2ms/step - loss: 0.1301\n",
      "Epoch 18/80\n",
      "142/142 [==============================] - 0s 2ms/step - loss: 0.1257\n",
      "Epoch 19/80\n",
      "142/142 [==============================] - 0s 2ms/step - loss: 0.1407\n",
      "Epoch 20/80\n",
      "142/142 [==============================] - 0s 2ms/step - loss: 0.1149\n",
      "Epoch 21/80\n",
      "142/142 [==============================] - 0s 2ms/step - loss: 0.1410\n",
      "Epoch 22/80\n",
      "142/142 [==============================] - 0s 2ms/step - loss: 0.1256\n",
      "Epoch 23/80\n",
      "142/142 [==============================] - 0s 2ms/step - loss: 0.1246\n",
      "Epoch 24/80\n",
      "142/142 [==============================] - 0s 3ms/step - loss: 0.1310\n",
      "Epoch 25/80\n",
      "142/142 [==============================] - 0s 2ms/step - loss: 0.1414\n",
      "Epoch 26/80\n",
      "142/142 [==============================] - 0s 2ms/step - loss: 0.1293\n",
      "Epoch 27/80\n",
      "142/142 [==============================] - 0s 3ms/step - loss: 0.1090\n",
      "Epoch 28/80\n",
      "142/142 [==============================] - 0s 3ms/step - loss: 0.1238\n",
      "Epoch 29/80\n",
      "142/142 [==============================] - 0s 3ms/step - loss: 0.1276\n",
      "Epoch 30/80\n",
      "142/142 [==============================] - 0s 2ms/step - loss: 0.1474\n",
      "Epoch 31/80\n",
      "142/142 [==============================] - 0s 2ms/step - loss: 0.1220\n",
      "Epoch 32/80\n",
      "142/142 [==============================] - 0s 2ms/step - loss: 0.1268\n",
      "Epoch 33/80\n",
      "142/142 [==============================] - 0s 3ms/step - loss: 0.1581\n",
      "Epoch 34/80\n",
      "142/142 [==============================] - 0s 3ms/step - loss: 0.1278\n",
      "Epoch 35/80\n",
      "142/142 [==============================] - 0s 3ms/step - loss: 0.1379\n",
      "Epoch 36/80\n",
      "142/142 [==============================] - 0s 3ms/step - loss: 0.1231\n",
      "Epoch 37/80\n",
      "142/142 [==============================] - 0s 3ms/step - loss: 0.1445\n",
      "Epoch 38/80\n",
      "142/142 [==============================] - 0s 3ms/step - loss: 0.1221\n",
      "Epoch 39/80\n",
      "142/142 [==============================] - 0s 2ms/step - loss: 0.1197\n",
      "Epoch 40/80\n",
      "142/142 [==============================] - 0s 2ms/step - loss: 0.1182\n",
      "Epoch 41/80\n",
      "142/142 [==============================] - 0s 2ms/step - loss: 0.1213\n",
      "Epoch 42/80\n",
      "142/142 [==============================] - 0s 2ms/step - loss: 0.1105\n",
      "Epoch 43/80\n",
      "142/142 [==============================] - 0s 2ms/step - loss: 0.1236\n",
      "Epoch 44/80\n",
      "142/142 [==============================] - 0s 2ms/step - loss: 0.1383\n",
      "Epoch 45/80\n",
      "142/142 [==============================] - 0s 2ms/step - loss: 0.1317\n",
      "Epoch 46/80\n",
      "142/142 [==============================] - 0s 2ms/step - loss: 0.1300\n",
      "Epoch 47/80\n",
      "142/142 [==============================] - 0s 2ms/step - loss: 0.1441\n",
      "Epoch 48/80\n",
      "142/142 [==============================] - 0s 3ms/step - loss: 0.1136\n",
      "Epoch 49/80\n",
      "142/142 [==============================] - 0s 3ms/step - loss: 0.1133\n",
      "Epoch 50/80\n",
      "142/142 [==============================] - 0s 2ms/step - loss: 0.1173\n",
      "Epoch 51/80\n",
      "142/142 [==============================] - 0s 2ms/step - loss: 0.1523\n",
      "Epoch 52/80\n",
      "142/142 [==============================] - 0s 2ms/step - loss: 0.1118\n",
      "Epoch 53/80\n",
      "142/142 [==============================] - 0s 2ms/step - loss: 0.1159\n",
      "Epoch 54/80\n",
      "142/142 [==============================] - 0s 2ms/step - loss: 0.1507\n",
      "Epoch 55/80\n",
      "142/142 [==============================] - 0s 2ms/step - loss: 0.1207\n",
      "Epoch 56/80\n",
      "142/142 [==============================] - 0s 2ms/step - loss: 0.1278\n",
      "Epoch 57/80\n",
      "142/142 [==============================] - 0s 2ms/step - loss: 0.1136\n",
      "Epoch 58/80\n",
      "142/142 [==============================] - 0s 2ms/step - loss: 0.1517\n",
      "Epoch 59/80\n",
      "142/142 [==============================] - 0s 2ms/step - loss: 0.1354\n",
      "Epoch 60/80\n",
      "142/142 [==============================] - 0s 2ms/step - loss: 0.1444\n",
      "Epoch 61/80\n",
      "142/142 [==============================] - 0s 2ms/step - loss: 0.1094\n",
      "Epoch 62/80\n",
      "142/142 [==============================] - 0s 2ms/step - loss: 0.1094\n",
      "Epoch 63/80\n",
      "142/142 [==============================] - 0s 2ms/step - loss: 0.1187\n",
      "Epoch 64/80\n",
      "142/142 [==============================] - 0s 2ms/step - loss: 0.1525\n",
      "Epoch 65/80\n",
      "142/142 [==============================] - 0s 2ms/step - loss: 0.1310\n",
      "Epoch 66/80\n",
      "142/142 [==============================] - 0s 2ms/step - loss: 0.1136\n",
      "Epoch 67/80\n",
      "142/142 [==============================] - 0s 2ms/step - loss: 0.1200\n",
      "Epoch 68/80\n",
      "142/142 [==============================] - 0s 2ms/step - loss: 0.1251\n",
      "Epoch 69/80\n",
      "142/142 [==============================] - 0s 2ms/step - loss: 0.1312\n",
      "Epoch 70/80\n",
      "142/142 [==============================] - 0s 2ms/step - loss: 0.1008\n",
      "Epoch 71/80\n",
      "142/142 [==============================] - 0s 2ms/step - loss: 0.1131\n",
      "Epoch 72/80\n",
      "142/142 [==============================] - 0s 2ms/step - loss: 0.1190\n",
      "Epoch 73/80\n",
      "142/142 [==============================] - 0s 2ms/step - loss: 0.1246\n",
      "Epoch 74/80\n",
      "142/142 [==============================] - 0s 2ms/step - loss: 0.1344\n",
      "Epoch 75/80\n",
      "142/142 [==============================] - 0s 2ms/step - loss: 0.1160\n",
      "Epoch 76/80\n",
      "142/142 [==============================] - 0s 2ms/step - loss: 0.1461\n",
      "Epoch 77/80\n",
      "142/142 [==============================] - 0s 2ms/step - loss: 0.1058\n",
      "Epoch 78/80\n",
      "142/142 [==============================] - 0s 2ms/step - loss: 0.1119\n",
      "Epoch 79/80\n",
      "142/142 [==============================] - 0s 2ms/step - loss: 0.1261\n",
      "Epoch 80/80\n",
      "142/142 [==============================] - 0s 2ms/step - loss: 0.1228\n",
      "Epoch 1/80\n",
      "142/142 [==============================] - 0s 2ms/step - loss: 0.2113\n",
      "Epoch 2/80\n",
      "142/142 [==============================] - 0s 2ms/step - loss: 0.1399\n",
      "Epoch 3/80\n",
      "142/142 [==============================] - 0s 2ms/step - loss: 0.1403\n",
      "Epoch 4/80\n",
      "142/142 [==============================] - 0s 2ms/step - loss: 0.1671\n",
      "Epoch 5/80\n",
      "142/142 [==============================] - 0s 2ms/step - loss: 0.1322\n",
      "Epoch 6/80\n",
      "142/142 [==============================] - 0s 2ms/step - loss: 0.1510\n",
      "Epoch 7/80\n",
      "142/142 [==============================] - 0s 2ms/step - loss: 0.1434\n",
      "Epoch 8/80\n",
      "142/142 [==============================] - 0s 2ms/step - loss: 0.1169\n",
      "Epoch 9/80\n",
      "142/142 [==============================] - 0s 2ms/step - loss: 0.1482\n",
      "Epoch 10/80\n",
      "142/142 [==============================] - 0s 2ms/step - loss: 0.1179\n",
      "Epoch 11/80\n",
      "142/142 [==============================] - 0s 2ms/step - loss: 0.1366\n",
      "Epoch 12/80\n",
      "142/142 [==============================] - 0s 2ms/step - loss: 0.1448\n",
      "Epoch 13/80\n",
      "142/142 [==============================] - 0s 2ms/step - loss: 0.1763\n",
      "Epoch 14/80\n",
      "142/142 [==============================] - 0s 2ms/step - loss: 0.1581\n",
      "Epoch 15/80\n",
      "142/142 [==============================] - 0s 2ms/step - loss: 0.1402\n",
      "Epoch 16/80\n",
      "142/142 [==============================] - 0s 2ms/step - loss: 0.1201\n",
      "Epoch 17/80\n",
      "142/142 [==============================] - 0s 2ms/step - loss: 0.1239\n",
      "Epoch 18/80\n",
      "142/142 [==============================] - 0s 2ms/step - loss: 0.1119\n",
      "Epoch 19/80\n",
      "142/142 [==============================] - 0s 2ms/step - loss: 0.1194\n",
      "Epoch 20/80\n",
      "142/142 [==============================] - 0s 2ms/step - loss: 0.1440\n",
      "Epoch 21/80\n",
      "142/142 [==============================] - 0s 2ms/step - loss: 0.1314\n",
      "Epoch 22/80\n",
      "142/142 [==============================] - 0s 2ms/step - loss: 0.1379\n",
      "Epoch 23/80\n",
      "142/142 [==============================] - 0s 2ms/step - loss: 0.1410\n",
      "Epoch 24/80\n",
      "142/142 [==============================] - 0s 2ms/step - loss: 0.1485\n",
      "Epoch 25/80\n",
      "142/142 [==============================] - 0s 2ms/step - loss: 0.1255\n",
      "Epoch 26/80\n",
      "142/142 [==============================] - 0s 2ms/step - loss: 0.1283\n",
      "Epoch 27/80\n",
      "142/142 [==============================] - 0s 2ms/step - loss: 0.1287\n",
      "Epoch 28/80\n",
      "142/142 [==============================] - 0s 2ms/step - loss: 0.1161\n",
      "Epoch 29/80\n",
      "142/142 [==============================] - 0s 2ms/step - loss: 0.1196\n",
      "Epoch 30/80\n",
      "142/142 [==============================] - 0s 2ms/step - loss: 0.1349\n",
      "Epoch 31/80\n",
      "142/142 [==============================] - 0s 2ms/step - loss: 0.1361\n",
      "Epoch 32/80\n",
      "142/142 [==============================] - 0s 2ms/step - loss: 0.1459\n",
      "Epoch 33/80\n",
      "142/142 [==============================] - 0s 2ms/step - loss: 0.1255\n",
      "Epoch 34/80\n",
      "142/142 [==============================] - 0s 2ms/step - loss: 0.1363\n",
      "Epoch 35/80\n",
      "142/142 [==============================] - 0s 2ms/step - loss: 0.1151\n",
      "Epoch 36/80\n",
      "142/142 [==============================] - 0s 2ms/step - loss: 0.1139\n",
      "Epoch 37/80\n",
      "142/142 [==============================] - 0s 2ms/step - loss: 0.1545\n",
      "Epoch 38/80\n",
      "142/142 [==============================] - 0s 2ms/step - loss: 0.1147\n",
      "Epoch 39/80\n",
      "142/142 [==============================] - 0s 2ms/step - loss: 0.1316\n",
      "Epoch 40/80\n",
      "142/142 [==============================] - 0s 2ms/step - loss: 0.1314\n",
      "Epoch 41/80\n",
      "142/142 [==============================] - 0s 2ms/step - loss: 0.1501\n",
      "Epoch 42/80\n",
      "142/142 [==============================] - 0s 2ms/step - loss: 0.1634\n",
      "Epoch 43/80\n",
      "142/142 [==============================] - 0s 2ms/step - loss: 0.1339\n",
      "Epoch 44/80\n",
      "142/142 [==============================] - 0s 2ms/step - loss: 0.1235\n",
      "Epoch 45/80\n",
      "142/142 [==============================] - 0s 2ms/step - loss: 0.1293\n",
      "Epoch 46/80\n",
      "142/142 [==============================] - 0s 2ms/step - loss: 0.1262\n",
      "Epoch 47/80\n",
      "142/142 [==============================] - 0s 2ms/step - loss: 0.1292\n",
      "Epoch 48/80\n",
      "142/142 [==============================] - 0s 2ms/step - loss: 0.1190\n",
      "Epoch 49/80\n",
      "142/142 [==============================] - 0s 2ms/step - loss: 0.1161\n",
      "Epoch 50/80\n",
      "142/142 [==============================] - 0s 2ms/step - loss: 0.1233\n",
      "Epoch 51/80\n",
      "142/142 [==============================] - 0s 2ms/step - loss: 0.1241\n",
      "Epoch 52/80\n",
      "142/142 [==============================] - 0s 2ms/step - loss: 0.1300\n",
      "Epoch 53/80\n",
      "142/142 [==============================] - 0s 2ms/step - loss: 0.1209\n",
      "Epoch 54/80\n",
      "142/142 [==============================] - 0s 2ms/step - loss: 0.1484\n",
      "Epoch 55/80\n",
      "142/142 [==============================] - 0s 2ms/step - loss: 0.1246\n",
      "Epoch 56/80\n",
      "142/142 [==============================] - 0s 2ms/step - loss: 0.1620\n",
      "Epoch 57/80\n",
      "142/142 [==============================] - 0s 2ms/step - loss: 0.1236\n",
      "Epoch 58/80\n",
      "142/142 [==============================] - 0s 2ms/step - loss: 0.1285\n",
      "Epoch 59/80\n",
      "142/142 [==============================] - 0s 2ms/step - loss: 0.1183\n",
      "Epoch 60/80\n",
      "142/142 [==============================] - 0s 2ms/step - loss: 0.1296\n",
      "Epoch 61/80\n",
      "142/142 [==============================] - 0s 2ms/step - loss: 0.1153\n",
      "Epoch 62/80\n",
      "142/142 [==============================] - 0s 2ms/step - loss: 0.1474\n",
      "Epoch 63/80\n",
      "142/142 [==============================] - 0s 2ms/step - loss: 0.1443\n",
      "Epoch 64/80\n",
      "142/142 [==============================] - 0s 2ms/step - loss: 0.1492\n",
      "Epoch 65/80\n",
      "142/142 [==============================] - 0s 2ms/step - loss: 0.1176\n",
      "Epoch 66/80\n",
      "142/142 [==============================] - 0s 2ms/step - loss: 0.1208\n",
      "Epoch 67/80\n",
      "142/142 [==============================] - 0s 2ms/step - loss: 0.1266\n",
      "Epoch 68/80\n",
      "142/142 [==============================] - 0s 2ms/step - loss: 0.1151\n",
      "Epoch 69/80\n",
      "142/142 [==============================] - 0s 2ms/step - loss: 0.1286\n",
      "Epoch 70/80\n",
      "142/142 [==============================] - 0s 2ms/step - loss: 0.1279\n",
      "Epoch 71/80\n",
      "142/142 [==============================] - 0s 2ms/step - loss: 0.1336\n",
      "Epoch 72/80\n",
      "142/142 [==============================] - 0s 2ms/step - loss: 0.1370\n",
      "Epoch 73/80\n",
      "142/142 [==============================] - 0s 2ms/step - loss: 0.1286\n",
      "Epoch 74/80\n",
      "142/142 [==============================] - 0s 2ms/step - loss: 0.1055\n",
      "Epoch 75/80\n",
      "142/142 [==============================] - 0s 2ms/step - loss: 0.1179\n",
      "Epoch 76/80\n",
      "142/142 [==============================] - 0s 2ms/step - loss: 0.1334\n",
      "Epoch 77/80\n",
      "142/142 [==============================] - 0s 2ms/step - loss: 0.1222\n",
      "Epoch 78/80\n",
      "142/142 [==============================] - 0s 2ms/step - loss: 0.1387\n",
      "Epoch 79/80\n",
      "142/142 [==============================] - 0s 2ms/step - loss: 0.1200\n",
      "Epoch 80/80\n",
      "142/142 [==============================] - 0s 2ms/step - loss: 0.1290\n"
     ]
    }
   ],
   "source": [
    "# additional 'profile' education for the models\n",
    "\n",
    "for m in squad:\n",
    "    m.train(goog_trs[m.scope-1], goog_lsis[m.scope-1], epochs=80)\n",
    "    m.examine_bias(secu, goog_trs[m.scope-1], goog_lsis[m.scope-1])"
   ]
  },
  {
   "cell_type": "code",
   "execution_count": 5,
   "metadata": {},
   "outputs": [
    {
     "name": "stdout",
     "output_type": "stream",
     "text": [
      "(array([[-0.02181274]], dtype=float32), array([[0.00605738]], dtype=float32))\n",
      "(array([[-0.00243718]], dtype=float32), array([[0.02103302]], dtype=float32))\n",
      "(array([[-0.00580902]], dtype=float32), array([[0.00577723]], dtype=float32))\n",
      "(array([[-0.00722086]], dtype=float32), array([[0.01005863]], dtype=float32))\n",
      "(array([[-0.01195543]], dtype=float32), array([[0.00857219]], dtype=float32))\n"
     ]
    }
   ],
   "source": [
    "for est in squad:\n",
    "    print(est.bias)"
   ]
  },
  {
   "cell_type": "code",
   "execution_count": null,
   "metadata": {},
   "outputs": [],
   "source": [
    "for each in squad:\n",
    "    each.model.save(f\".\\models_squad\\model_of_scope_{each.scope}.h5\")"
   ]
  },
  {
   "cell_type": "code",
   "execution_count": 6,
   "metadata": {},
   "outputs": [],
   "source": [
    "# backtest"
   ]
  },
  {
   "cell_type": "code",
   "execution_count": 3,
   "metadata": {},
   "outputs": [],
   "source": [
    "squad = [predictor_class.predictor(model = tf.keras.models.load_model(f'.\\models_squad\\model_of_scope_{i+1}.h5'), lrs=l, scope = i+1) for i in range(5)]\n"
   ]
  },
  {
   "cell_type": "code",
   "execution_count": 4,
   "metadata": {},
   "outputs": [
    {
     "name": "stdout",
     "output_type": "stream",
     "text": [
      "[*********************100%%**********************]  1 of 1 completed\n"
     ]
    },
    {
     "name": "stderr",
     "output_type": "stream",
     "text": [
      "c:\\Users\\gelos\\OneDrive\\Desktop\\scripts\\python\\idp\\predictor_class.py:100: FutureWarning: Series.__getitem__ treating keys as positions is deprecated. In a future version, integer keys will always be treated as labels (consistent with DataFrame behavior). To access a value by position, use `ser.iloc[pos]`\n",
      "  y = indicators.close[i+5+scope-1]\n"
     ]
    }
   ],
   "source": [
    "pocket = 0\n",
    "s = 0\n",
    "pnls = []\n",
    "plans_to_sell = [0 for i in range(len(squad))]\n",
    "secu = yf.download('tcehy', period='10y', interval='1d')\n",
    "ins = predictor_class.createdataset(secu)\n",
    "training_, labels_ = predictor_class.get_trainingdata(ins[100:])\n",
    "\n",
    "for each in squad: each.examine_bias(secu, training_, labels_)\n",
    "\n",
    "\n",
    "    "
   ]
  },
  {
   "cell_type": "code",
   "execution_count": 5,
   "metadata": {},
   "outputs": [],
   "source": [
    "strategy = strategy_class.strategy(squad)\n",
    "shares = 0\n",
    "for i in range(1, len(training_)):\n",
    "    data_bit = training_[i:i+1]\n",
    "    price = labels_[i-1]\n",
    "    # right now is the i moment, in the labels_s` realm it`s i-1st moment\n",
    "    shares_now = strategy.hmbsa(data_bit, price)\n",
    "    if shares_now == 0:\n",
    "        pocket += shares*price\n",
    "        shares = 0\n",
    "    else:\n",
    "        shares += shares_now\n",
    "        pocket -= shares_now*price\n",
    "    pnls.append(pocket)"
   ]
  },
  {
   "cell_type": "code",
   "execution_count": 6,
   "metadata": {},
   "outputs": [
    {
     "data": {
      "image/png": "[encoded data removed]",
      "text/plain": [
       "<Figure size 640x480 with 1 Axes>"
      ]
     },
     "metadata": {},
     "output_type": "display_data"
    }
   ],
   "source": [
    "plt.plot(pnls)\n",
    "plt.show()"
   ]
  },
  {
   "cell_type": "code",
   "execution_count": 7,
   "metadata": {},
   "outputs": [
    {
     "data": {
      "text/plain": [
       "[<matplotlib.lines.Line2D at 0x26cf9e02290>]"
      ]
     },
     "execution_count": 7,
     "metadata": {},
     "output_type": "execute_result"
    },
    {
     "data": {
      "image/png": "[encoded data removed]",
      "text/plain": [
       "<Figure size 640x480 with 1 Axes>"
      ]
     },
     "metadata": {},
     "output_type": "display_data"
    }
   ],
   "source": [
    "plt.plot(ins.close.values)\n",
    "plt.plot(43 + np.array(pnls)/3000)"
   ]
  },
  {
   "cell_type": "code",
   "execution_count": 8,
   "metadata": {},
   "outputs": [
    {
     "data": {
      "text/plain": [
       "11.583091742448241"
      ]
     },
     "execution_count": 8,
     "metadata": {},
     "output_type": "execute_result"
    }
   ],
   "source": [
    "pnls[-1]/(len(pnls))"
   ]
  },
  {
   "cell_type": "code",
   "execution_count": null,
   "metadata": {},
   "outputs": [],
   "source": []
  },
  {
   "cell_type": "code",
   "execution_count": 9,
   "metadata": {},
   "outputs": [
    {
     "data": {
      "image/png": "[encoded data removed]",
      "text/plain": [
       "<Figure size 640x480 with 1 Axes>"
      ]
     },
     "metadata": {},
     "output_type": "display_data"
    }
   ],
   "source": [
    "squad[0].see_performance(ins, training_)"
   ]
  },
  {
   "cell_type": "code",
   "execution_count": null,
   "metadata": {},
   "outputs": [],
   "source": []
  }
 ],
 "metadata": {
  "kernelspec": {
   "display_name": "Python 3",
   "language": "python",
   "name": "python3"
  },
  "language_info": {
   "codemirror_mode": {
    "name": "ipython",
    "version": 3
   },
   "file_extension": ".py",
   "mimetype": "text/x-python",
   "name": "python",
   "nbconvert_exporter": "python",
   "pygments_lexer": "ipython3",
   "version": "3.11.5"
  },
  "orig_nbformat": 4
 },
 "nbformat": 4,
 "nbformat_minor": 2
}
